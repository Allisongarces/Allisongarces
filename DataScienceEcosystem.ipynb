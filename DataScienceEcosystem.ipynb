{
  "nbformat": 4,
  "nbformat_minor": 0,
  "metadata": {
    "colab": {
      "provenance": [],
      "authorship_tag": "ABX9TyOQxf3iQwX+3xsDnauCDru9",
      "include_colab_link": true
    },
    "kernelspec": {
      "name": "python3",
      "display_name": "Python 3"
    },
    "language_info": {
      "name": "python"
    }
  },
  "cells": [
    {
      "cell_type": "markdown",
      "metadata": {
        "id": "view-in-github",
        "colab_type": "text"
      },
      "source": [
        "<a href=\"https://colab.research.google.com/github/Allisongarces/Allisongarces/blob/main/DataScienceEcosystem.ipynb\" target=\"_parent\"><img src=\"https://colab.research.google.com/assets/colab-badge.svg\" alt=\"Open In Colab\"/></a>"
      ]
    },
    {
      "cell_type": "code",
      "execution_count": null,
      "metadata": {
        "id": "tJPwzGYC1w7g"
      },
      "outputs": [],
      "source": []
    },
    {
      "cell_type": "markdown",
      "source": [
        "# Data Science Tools and Ecosystem"
      ],
      "metadata": {
        "id": "Z3EANJoI2ErO"
      }
    },
    {
      "cell_type": "markdown",
      "source": [
        "In this notebook, Data Science Tools and Ecosystem are summarized.\n",
        "\n"
      ],
      "metadata": {
        "id": "DKvcK-lm2kqk"
      }
    },
    {
      "cell_type": "markdown",
      "source": [
        "Some of the popular languages that Data Scientists use are:\n",
        "\n",
        "1. Python\n",
        "2. SQL\n",
        "3. R\n",
        "4. VBA (Visual Basic for Applications)\n",
        "5. Julia"
      ],
      "metadata": {
        "id": "uiuInIl_26SW"
      }
    },
    {
      "cell_type": "markdown",
      "source": [
        "Some of the commonly used libraries used by Data Scientists include:\n",
        "TensorFlow\n",
        "\n",
        "1. TensorFlow\n",
        "2. NumPy\n",
        "3. SciPy\n",
        "4. Pandas\n",
        "5. Matplotlib\n",
        "6. Keras\n",
        "7. SciKit-Learn"
      ],
      "metadata": {
        "id": "BFswYJfs3ycK"
      }
    },
    {
      "cell_type": "markdown",
      "source": [
        "| Data Science Tools |\n",
        "---\n",
        "| Apache Spark |\n",
        "| D3.js |\n",
        "| IBM SPSS |\n",
        "| Julia |"
      ],
      "metadata": {
        "id": "8i1rz_jx4ipT"
      }
    },
    {
      "cell_type": "markdown",
      "source": [
        "### Below are a few examples of evaluating arithmetic expressions in Python"
      ],
      "metadata": {
        "id": "X928K0xn6MXi"
      }
    },
    {
      "cell_type": "code",
      "source": [
        "# This a simple arithmetic expression to mutiply then add integers\n",
        "\n",
        "(3*4)+5"
      ],
      "metadata": {
        "colab": {
          "base_uri": "https://localhost:8080/"
        },
        "id": "1Lk48jUD6lMi",
        "outputId": "2cb13e61-37fc-4c80-d1f3-a882517f62a6"
      },
      "execution_count": 1,
      "outputs": [
        {
          "output_type": "execute_result",
          "data": {
            "text/plain": [
              "17"
            ]
          },
          "metadata": {},
          "execution_count": 1
        }
      ]
    },
    {
      "cell_type": "code",
      "source": [
        "# This will convert 200 minutes to hours by diving by 60\n",
        "\n",
        "convert = 200/60\n",
        "print(\"200 minutes to hours: \", convert)"
      ],
      "metadata": {
        "colab": {
          "base_uri": "https://localhost:8080/"
        },
        "id": "-uHfSP-F68_7",
        "outputId": "77c79aab-42f3-4124-ff29-9fb956ba1ee4"
      },
      "execution_count": 4,
      "outputs": [
        {
          "output_type": "stream",
          "name": "stdout",
          "text": [
            "200 minutes to hours:  3.3333333333333335\n"
          ]
        }
      ]
    },
    {
      "cell_type": "markdown",
      "source": [
        "### Some of the key takeaways from the course\n",
        "\n",
        "**Objetives:**\n",
        "* Popular languages in Data Scientists\n",
        "* The commonly used libraries used by Data Scientists\n",
        "* Data Science Tools\n",
        "\n"
      ],
      "metadata": {
        "id": "M5LdUbbP8BfE"
      }
    },
    {
      "cell_type": "markdown",
      "source": [
        "## Author:\n",
        "Allison Garces C."
      ],
      "metadata": {
        "id": "lHV1bt5D8z5c"
      }
    }
  ]
}